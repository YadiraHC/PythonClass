{
 "cells": [
  {
   "cell_type": "markdown",
   "id": "aa425dc1",
   "metadata": {},
   "source": [
    "# 1. modulos"
   ]
  },
  {
   "cell_type": "code",
   "execution_count": null,
   "id": "51b3e1e2",
   "metadata": {},
   "outputs": [],
   "source": [
    "# Supongamos que tienes un archivo llamado operaciones.py con el siguiente contenido:\n",
    "def suma(a, b):\n",
    "    return a + b\n",
    "\n",
    "def resta(a, b):\n",
    "    return a - b\n"
   ]
  },
  {
   "cell_type": "code",
   "execution_count": 2,
   "id": "a14ec283",
   "metadata": {},
   "outputs": [
    {
     "name": "stdout",
     "output_type": "stream",
     "text": [
      "8\n"
     ]
    }
   ],
   "source": [
    "# Puedes usar las funciones definidas en el módulo operaciones de la siguiente manera:\n",
    "import operaciones\n",
    "\n",
    "resultado = operaciones.suma(5, 3)\n",
    "print(resultado)  # Imprimirá 8"
   ]
  },
  {
   "cell_type": "markdown",
   "id": "927f45f3",
   "metadata": {},
   "source": [
    "# Ejercicio practico 1"
   ]
  },
  {
   "cell_type": "code",
   "execution_count": 3,
   "id": "96222bf7",
   "metadata": {
    "scrolled": true
   },
   "outputs": [
    {
     "name": "stdout",
     "output_type": "stream",
     "text": [
      "15\n",
      "153.93804002589985\n"
     ]
    }
   ],
   "source": [
    "# Crea un módulo llamado calculos que contenga funciones para calcular el área \n",
    "# de diferentes figuras geométricas. Luego, importa ese módulo y utiliza sus funciones.\n",
    "\n",
    "\n",
    "from calculos import area_rectangulo, area_circulo\n",
    "\n",
    "print(area_rectangulo(5, 3))  # Imprimirá 15\n",
    "print(area_circulo(7))       # Imprimirá aproximadamente 153.93804002589985"
   ]
  },
  {
   "cell_type": "markdown",
   "id": "dc6578e5",
   "metadata": {},
   "source": [
    "# Entregable 3"
   ]
  },
  {
   "cell_type": "code",
   "execution_count": null,
   "id": "df0e4618",
   "metadata": {},
   "outputs": [],
   "source": [
    "from matematicas import modulo1_suma\n",
    "from matematicas import modulo2_resta\n",
    "from matematicas import modulo3_multiplicacion\n",
    "from matematicas import modulo4_divicion\n",
    "from matematicas import modulo5_potencia\n",
    "from matematicas import modulo6_raiz_cuadrada\n",
    "\n",
    "r1 = modulo1_suma.suma(5,6)\n",
    "print(r1)\n",
    "r2 = modulo2_resta.resta(30,14)\n",
    "print(r2)\n",
    "r3 = modulo3_multiplicacion.multiplicacion(6,6)\n",
    "print(r3)\n",
    "r4 = modulo4_divicion.divicion(54,6)\n",
    "print(r4)\n",
    "r5 = modulo5_potencia.potencia(2,3)\n",
    "print(r5)\n",
    "r6 = modulo6_raiz_cuadrada.raiz_cuadrada(25)\n",
    "print(r6)\n",
    "\n",
    "def suma(a, b):\n",
    "    return a + b"
   ]
  }
 ],
 "metadata": {
  "kernelspec": {
   "display_name": "Python 3 (ipykernel)",
   "language": "python",
   "name": "python3"
  },
  "language_info": {
   "codemirror_mode": {
    "name": "ipython",
    "version": 3
   },
   "file_extension": ".py",
   "mimetype": "text/x-python",
   "name": "python",
   "nbconvert_exporter": "python",
   "pygments_lexer": "ipython3",
   "version": "3.11.4"
  }
 },
 "nbformat": 4,
 "nbformat_minor": 5
}

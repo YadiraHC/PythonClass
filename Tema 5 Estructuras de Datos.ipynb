{
 "cells": [
  {
   "cell_type": "markdown",
   "id": "870e08a7",
   "metadata": {},
   "source": [
    "# 1. Listas"
   ]
  },
  {
   "cell_type": "code",
   "execution_count": null,
   "id": "b914cecc",
   "metadata": {},
   "outputs": [],
   "source": [
    "# Listas ordenas y modificablesb\n",
    "frutas = [\"manzana\", \"banana\", \"cereza\"]\n",
    "numeros = [1, 2, 3, 4, 5]\n",
    "mixto = [\"texto\", 123, True, 3.14]\n",
    "\n",
    "# Acceso y modificación:\n",
    "print(frutas[0])       # Imprime \"manzana\"\n",
    "frutas[1] = \"uva\"      # Cambia \"banana\" por \"uva\"\n",
    "print(frutas)  \n",
    "\n",
    "# Métodos comunes:\n",
    "frutas.append(\"naranja\")    # Agrega un elemento al final\n",
    "print(frutas)  \n",
    "frutas.remove(\"manzana\")    # Elimina un elemento específico\n",
    "print(frutas)  \n",
    "frutas.pop()                # Elimina el último elemento\n",
    "print(frutas)  "
   ]
  },
  {
   "cell_type": "markdown",
   "id": "b510d47f",
   "metadata": {},
   "source": [
    "# 2. Tuplas"
   ]
  },
  {
   "cell_type": "code",
   "execution_count": 1,
   "id": "fbd7a114",
   "metadata": {
    "scrolled": true
   },
   "outputs": [
    {
     "name": "stdout",
     "output_type": "stream",
     "text": [
      "verde\n"
     ]
    }
   ],
   "source": [
    "# Son similares a las listas, pero son inmutables, \n",
    "# es decir, no puedes modificar su contenido una vez creado.\n",
    "\n",
    "\n",
    "colores = (\"rojo\", \"verde\", \"azul\")\n",
    "\n",
    "print(colores[1])    # Imprime \"verde\""
   ]
  },
  {
   "cell_type": "markdown",
   "id": "1462477e",
   "metadata": {},
   "source": [
    "# 3. Conjuntos (Sets)"
   ]
  },
  {
   "cell_type": "code",
   "execution_count": 3,
   "id": "ae008865",
   "metadata": {},
   "outputs": [
    {
     "name": "stdout",
     "output_type": "stream",
     "text": [
      "{'gato', 'perro', 'pez'}\n",
      "{'gato', 'perro', 'pájaro', 'pez'}\n",
      "{'gato', 'perro', 'pájaro'}\n"
     ]
    }
   ],
   "source": [
    "# Son colecciones no ordenadas y sin elementos duplicados.\n",
    "\n",
    "animales = {\"gato\", \"perro\", \"pez\"}\n",
    "print(animales)\n",
    "\n",
    "animales.add(\"pájaro\")     # Agrega un elemento\n",
    "print(animales)\n",
    "\n",
    "animales.remove(\"pez\")     # Elimina un elemento\n",
    "print(animales)"
   ]
  },
  {
   "cell_type": "code",
   "execution_count": 3,
   "id": "ee66b969",
   "metadata": {
    "scrolled": true
   },
   "outputs": [
    {
     "name": "stdout",
     "output_type": "stream",
     "text": [
      "verde\n",
      "('rojo', 'verde', 'azul')\n",
      "('rojo', 'verde', 'azul')\n",
      "('rojo', 'verde', 'azul')\n"
     ]
    }
   ],
   "source": [
    "colores = (\"rojo\", \"verde\", \"azul\")\n",
    "print(colores[1])# Imprime \"verde\"\n",
    "\n",
    "for color in colores:\n",
    "    print(colores)"
   ]
  },
  {
   "cell_type": "markdown",
   "id": "778ef181",
   "metadata": {},
   "source": [
    "# 4 Diccionesrios"
   ]
  },
  {
   "cell_type": "code",
   "execution_count": 16,
   "id": "e519d246",
   "metadata": {},
   "outputs": [
    {
     "name": "stdout",
     "output_type": "stream",
     "text": [
      "{'nombre': 'Juan', 'edad': 25, 'ciudad': 'Madrid'}\n",
      "Luis Fernando\n"
     ]
    }
   ],
   "source": [
    "# Son colecciones no ordenadas de pares clave-valor.\n",
    "persona_git = {\n",
    "    \"nombre\": \"Juan\",\n",
    "    \"edad\": 25,\n",
    "    \"ciudad\": \"Madrid\"\n",
    "}\n",
    "\n",
    "persona = {\"nombre\":\"Luis Fernando\",\n",
    "       \"ap_p\":\"Villa\",\n",
    "       \"ap_m\":\"Rejol\",\n",
    "       \"edad\":33,\n",
    "       \"estura\":1.76,\n",
    "       \"peso\":80\n",
    "}\n",
    "\n",
    "print(persona_git)\n",
    "\n",
    "print(persona[\"nombre\"])    # Imprime \"Juan\"\n",
    "persona[\"edad\"] = 26        # Modifica el valor de \"edad\""
   ]
  },
  {
   "cell_type": "code",
   "execution_count": 19,
   "id": "8262dd6d",
   "metadata": {},
   "outputs": [],
   "source": [
    "# Formula = peso/altura2\n",
    "\n",
    "def imc(peso,estatura):\n",
    "    return(peso/estatura**2)\n",
    "    \n",
    "\n",
    "persona_imc = imc(persona[\"peso\"],persona[\"estura\"])"
   ]
  },
  {
   "cell_type": "code",
   "execution_count": 20,
   "id": "4b77ae01",
   "metadata": {},
   "outputs": [
    {
     "name": "stdout",
     "output_type": "stream",
     "text": [
      "Peso normal\n"
     ]
    }
   ],
   "source": [
    "def nivel_peso(p_imc):\n",
    "    if p_imc < 18:\n",
    "        print(\"Peso bajo\")\n",
    "    elif p_imc >= 25 and p_imc <=29:\n",
    "        print(\"Peso normal\")\n",
    "    elif p_imc >= 30 and p_imc <=34:\n",
    "        print(\"Peso normal\")\n",
    "    else:\n",
    "        print(\"Obesidad\")\n",
    "        \n",
    "nivel_peso(persona_imc)"
   ]
  },
  {
   "cell_type": "code",
   "execution_count": 6,
   "id": "f1028be3",
   "metadata": {},
   "outputs": [
    {
     "name": "stdout",
     "output_type": "stream",
     "text": [
      "Forrest Gump\n"
     ]
    }
   ],
   "source": [
    "# Ejercicio práctico 1: Crea una lista con tus películas favoritas y muestra la tercera película en la lista.\n",
    "\n",
    "peliculas = [\"El Padrino\", \"Matrix\", \"Forrest Gump\"]\n",
    "print(peliculas[2])  # Imprime \"Forrest Gump\""
   ]
  },
  {
   "cell_type": "code",
   "execution_count": 7,
   "id": "ca2213af",
   "metadata": {},
   "outputs": [
    {
     "name": "stdout",
     "output_type": "stream",
     "text": [
      "El promedio es: 86.5\n"
     ]
    }
   ],
   "source": [
    "# Ejercicio práctico 2: Dado un diccionario que guarda las calificaciones de un estudiante, calcula el promedio.\n",
    "calificaciones = {\n",
    "    \"matemáticas\": 90,\n",
    "    \"historia\": 85,\n",
    "    \"física\": 78,\n",
    "    \"química\": 93\n",
    "}\n",
    "\n",
    "promedio = sum(calificaciones.values()) / len(calificaciones)\n",
    "print(f\"El promedio es: {promedio}\")"
   ]
  },
  {
   "cell_type": "code",
   "execution_count": 8,
   "id": "c85a5ee4",
   "metadata": {},
   "outputs": [
    {
     "name": "stdout",
     "output_type": "stream",
     "text": [
      "{'correr', 'leer', 'cocinar'}\n",
      "{'correr', 'bailar', 'leer', 'cocinar'}\n"
     ]
    }
   ],
   "source": [
    "# Ejercicio práctico 3: Crea un conjunto con tus hobbies y agrega uno nuevo.\n",
    "hobbies = {\"leer\", \"correr\", \"cocinar\"}\n",
    "print(hobbies)\n",
    "\n",
    "hobbies.add(\"bailar\")\n",
    "print(hobbies)"
   ]
  },
  {
   "cell_type": "code",
   "execution_count": 9,
   "id": "9b5f47dd",
   "metadata": {},
   "outputs": [
    {
     "name": "stdout",
     "output_type": "stream",
     "text": [
      "c\n",
      "a\n",
      "ipt\n"
     ]
    }
   ],
   "source": [
    "# Manipulación de Cadenas**\n",
    "# 1. Acceso a caracteres y slicing\n",
    "# Las cadenas en Python son secuencias de caracteres y se pueden acceder a ellos usando índices.bb\n",
    "texto = \"criptografia\"\n",
    "print(texto[0])  # c\n",
    "print(texto[-1])  # a\n",
    "print(texto[2:5])  # ipt"
   ]
  },
  {
   "cell_type": "code",
   "execution_count": 11,
   "id": "855f6fe7",
   "metadata": {},
   "outputs": [
    {
     "name": "stdout",
     "output_type": "stream",
     "text": [
      "['Hola', 'Mundo', 'buenos', 'dias', 'alegria']\n"
     ]
    }
   ],
   "source": [
    "# 2. Métodos comunes\n",
    "# Python ofrece una variedad de métodos para trabajar con cadenas:\n",
    "\n",
    "# split(): Divide una cadena en una lista de subcadenas basándose en un delimitador.\n",
    "frase = \"Hola Mundo buenos dias alegria\"\n",
    "palabras = frase.split()\n",
    "print(palabras)  # ['Hola', 'Mundo']"
   ]
  },
  {
   "cell_type": "code",
   "execution_count": 2,
   "id": "dfa1a820",
   "metadata": {},
   "outputs": [
    {
     "name": "stdout",
     "output_type": "stream",
     "text": [
      "Hola Mundo 123\n"
     ]
    }
   ],
   "source": [
    "# join(): Une una lista de cadenas en una única cadena.\n",
    "\n",
    "palabras = ['Hola', 'Mundo','123']\n",
    "frase = ' '.join(palabras)\n",
    "print(frase)  # Hola Mundo"
   ]
  },
  {
   "cell_type": "code",
   "execution_count": 3,
   "id": "e5c261ef",
   "metadata": {},
   "outputs": [
    {
     "name": "stdout",
     "output_type": "stream",
     "text": [
      "Hola Python\n"
     ]
    }
   ],
   "source": [
    "# replace(): Reemplaza una subcadena con otra.\n",
    "\n",
    "saludo = \"Hola Mundo\"\n",
    "saludo_modificado = saludo.replace(\"Mundo\", \"Python\")\n",
    "print(saludo_modificado)  # Hola Python"
   ]
  },
  {
   "cell_type": "code",
   "execution_count": 4,
   "id": "c2ba935f",
   "metadata": {
    "scrolled": true
   },
   "outputs": [
    {
     "name": "stdout",
     "output_type": "stream",
     "text": [
      "PYTHON\n",
      "python\n"
     ]
    }
   ],
   "source": [
    "#upper(), lower(): Convierten la cadena a mayúsculas o minúsculas.\n",
    "\n",
    "texto = \"Python\"\n",
    "print(texto.upper())  # PYTHON\n",
    "print(texto.lower())  # python"
   ]
  },
  {
   "cell_type": "code",
   "execution_count": 5,
   "id": "37f9077f",
   "metadata": {},
   "outputs": [
    {
     "name": "stdout",
     "output_type": "stream",
     "text": [
      "b'Python'\n"
     ]
    }
   ],
   "source": [
    "# 3. Codificación de caracteres y bytes\n",
    "# Dado que estamos hablando de criptografía, }\n",
    "# es crucial comprender cómo funcionan las codificaciones \n",
    "# y cómo convertir cadenas a bytes y viceversa.\n",
    "\n",
    "#str.encode(): Convierte una cadena a bytes.\n",
    "texto = \"Python\"\n",
    "bytes_texto = texto.encode('utf-8')\n",
    "print(bytes_texto)  # b'Python'"
   ]
  },
  {
   "cell_type": "code",
   "execution_count": 6,
   "id": "2199f8a0",
   "metadata": {},
   "outputs": [
    {
     "name": "stdout",
     "output_type": "stream",
     "text": [
      "Python\n"
     ]
    }
   ],
   "source": [
    "#bytes.decode(): Convierte bytes a una cadena.\n",
    "\n",
    "bytes_texto = b'Python'\n",
    "texto = bytes_texto.decode('utf-8')\n",
    "print(texto)  # Python"
   ]
  },
  {
   "cell_type": "code",
   "execution_count": 14,
   "id": "ae07804e",
   "metadata": {},
   "outputs": [
    {
     "name": "stdout",
     "output_type": "stream",
     "text": [
      "['Lunes', 'Martes', 'Miercoles', 'Jueves', 'Viernes']\n",
      "Lunes Martes Miercoles Jueves Viernes\n"
     ]
    }
   ],
   "source": [
    "# Ejercicio práctico 1: Dada una cadena que contiene palabras \n",
    "# separadas por comas (ej. \"manzana,banana,cereza\"), conviértela en una \n",
    "# lista y luego únela nuevamente en una cadena separada por espacios.\n",
    "\n",
    "\n",
    "# Dividir la cadena usando comas\n",
    "semana = \"Lunes, Martes, Miercoles, Jueves, Viernes\"\n",
    "palabras = semana.split(', ')\n",
    "print(palabras)\n",
    "\n",
    "# Unir las palabras en una cadena separada por espacios\n",
    "saludo = \"Lunes Martes Miercoles Jueves Viernes\"\n",
    "saludo_modificado = ' '.join(palabras)\n",
    "print(saludo_modificado)\n"
   ]
  },
  {
   "cell_type": "code",
   "execution_count": 12,
   "id": "b64ed4d9",
   "metadata": {
    "scrolled": true
   },
   "outputs": [
    {
     "name": "stdout",
     "output_type": "stream",
     "text": [
      "b'YAdira'\n",
      "YAdira\n"
     ]
    }
   ],
   "source": [
    "#Ejercicio práctico 2: Convierte el mensaje \"¡Hola Mundo!\" a bytes y luego decodifícalo de nuevo a una cadena.\n",
    "\n",
    "t = \"YAdira\"\n",
    "bytes_t = t.encode('utf-8')\n",
    "print(bytes_t) \n",
    "\n",
    "bytes_t2 = b'YAdira'\n",
    "t2 = bytes_t2.decode('utf-8')\n",
    "print(t2)  # Python"
   ]
  },
  {
   "cell_type": "markdown",
   "id": "5e849129",
   "metadata": {},
   "source": [
    "# Entregable 2"
   ]
  },
  {
   "cell_type": "code",
   "execution_count": 1,
   "id": "6bdba4be",
   "metadata": {},
   "outputs": [],
   "source": [
    "# Ejercicio\n",
    "\n",
    "#diccionarios\n",
    "persona = {\n",
    "    \"nombre\":\"luis\",\n",
    "    \"edad\": 24,\n",
    "    \"a_paterno\":\"A\",\n",
    "    \"a_materno\":\"B\",\n",
    "    \"estatura\":1.76,\n",
    "    \"peso\":80\n",
    "}\n"
   ]
  },
  {
   "cell_type": "code",
   "execution_count": 3,
   "id": "3e9eb2a8",
   "metadata": {
    "scrolled": true
   },
   "outputs": [
    {
     "name": "stdout",
     "output_type": "stream",
     "text": [
      "IMC: 25.826446280991735\n",
      "Resultado del IMC: Alto\n"
     ]
    }
   ],
   "source": [
    "# funciones\n",
    "\n",
    "\n",
    "def imc(peso,estatura):\n",
    "    resultado = peso/estatura**2 #operacion\n",
    "    return resultado\n",
    "   \n",
    "def resultado_imc(resultado): #Clasifica el resultado\n",
    "    if resultado <= 18.5:\n",
    "        resultado_imc1 = \"bajo\"\n",
    "    elif resultado >= 18.5 and resultado <= 24.9:\n",
    "        resultado_imc1 = \"normal\"\n",
    "    elif resultado >= 25 and resultado <= 29.9:\n",
    "        resultado_imc1 = \"Alto\"\n",
    "    elif resultado >= 30:\n",
    "        resultado_imc1 = \"Sobrepeso\"\n",
    "    return resultado_imc1\n",
    "\n",
    "\n",
    "# Aqui se calcula IMC\n",
    "imc_resultado = imc(persona[\"peso\"], persona[\"estatura\"])\n",
    "print(\"IMC:\", imc_resultado)\n",
    "\n",
    "# Aqui el Resultado del IMC\n",
    "resultado = resultado_imc(imc_resultado)\n",
    "print(\"Resultado del IMC:\", resultado)"
   ]
  },
  {
   "cell_type": "code",
   "execution_count": null,
   "id": "1a64e02b",
   "metadata": {},
   "outputs": [],
   "source": []
  }
 ],
 "metadata": {
  "kernelspec": {
   "display_name": "Python 3 (ipykernel)",
   "language": "python",
   "name": "python3"
  },
  "language_info": {
   "codemirror_mode": {
    "name": "ipython",
    "version": 3
   },
   "file_extension": ".py",
   "mimetype": "text/x-python",
   "name": "python",
   "nbconvert_exporter": "python",
   "pygments_lexer": "ipython3",
   "version": "3.11.4"
  }
 },
 "nbformat": 4,
 "nbformat_minor": 5
}

{
 "cells": [
  {
   "cell_type": "markdown",
   "id": "752fc528",
   "metadata": {},
   "source": [
    "# Entregable 4"
   ]
  },
  {
   "cell_type": "code",
   "execution_count": 9,
   "id": "d9eb4e87",
   "metadata": {
    "scrolled": false
   },
   "outputs": [
    {
     "name": "stdout",
     "output_type": "stream",
     "text": [
      "Apellido Paterno: Hernandez\n",
      "Apellido Materno: Cordova\n",
      "Nombre: Yadira\n",
      "Sexo: F\n",
      "domicilio: Bonfil\n",
      "Clave de Elector: HRCR\n",
      "Curp: HECY030130MQRRRDA5\n",
      "Fecha de nacimiento: 03/01/30\n"
     ]
    }
   ],
   "source": [
    "# Tarea: crear un programa que me solicite todos los datos de la ine, \n",
    "# y que me los almacene en un diccionario, posteriomente se van obtener \n",
    "# los datos del diccionario y se va guardar de manera estructura en un archivo txt\n",
    "datos_ine_persona = {\n",
    "    \"a_paterno \": input(\"Apellido Paterno: \"),\n",
    "    \"a_maternoo\": input(\"Apellido Materno: \"),\n",
    "    \"nombre\": input(\"Nombre: \"),\n",
    "    \"sexo\": input(\"Sexo: \"),\n",
    "    \"domicilio\": input(\"domicilio: \"),\n",
    "    \"clave_de_elector\": input(\"Clave de Elector: \"),\n",
    "    \"curp\": input(\"Curp: \"),\n",
    "    \"fecha_de_nacimiento\": input(\"Fecha de nacimiento: \")\n",
    "}\n",
    "\n",
    "datos_como_cadena = str(datos_ine_persona)\n",
    "\n",
    "with open(\"DatosInePersona.txt\", \"w\") as archivo:\n",
    "    for clave, valor in datos_ine_persona.items():\n",
    "        archivo.write(clave + \": \" + valor + \"\\n\")\n",
    "        \n",
    "archivo.close()"
   ]
  },
  {
   "cell_type": "code",
   "execution_count": 21,
   "id": "5340512a",
   "metadata": {},
   "outputs": [
    {
     "name": "stdout",
     "output_type": "stream",
     "text": [
      "{'a_paterno ': 'sdfgh', 'a_maternoo': 'dfgh', 'nombre': 'sdfg', 'sexo': 'sdfg', 'domicilio': 'sdfg', 'clave_de_elector': 'sdfg', 'curp': 'sdfgh', 'fecha_de_nacimiento': 'sdfg'}\n",
      "\n"
     ]
    }
   ],
   "source": [
    "archivo = open(\"DatosInePersona.txt\", \"r\")\n",
    "leer = archivo.read()\n",
    "print(leer)"
   ]
  },
  {
   "cell_type": "code",
   "execution_count": null,
   "id": "067b44c9",
   "metadata": {},
   "outputs": [],
   "source": []
  }
 ],
 "metadata": {
  "kernelspec": {
   "display_name": "Python 3 (ipykernel)",
   "language": "python",
   "name": "python3"
  },
  "language_info": {
   "codemirror_mode": {
    "name": "ipython",
    "version": 3
   },
   "file_extension": ".py",
   "mimetype": "text/x-python",
   "name": "python",
   "nbconvert_exporter": "python",
   "pygments_lexer": "ipython3",
   "version": "3.11.4"
  }
 },
 "nbformat": 4,
 "nbformat_minor": 5
}

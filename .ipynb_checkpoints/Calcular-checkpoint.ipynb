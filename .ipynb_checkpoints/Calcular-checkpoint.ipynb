{
 "cells": [
  {
   "cell_type": "code",
   "execution_count": 6,
   "id": "3627275e",
   "metadata": {
    "scrolled": true
   },
   "outputs": [
    {
     "name": "stdout",
     "output_type": "stream",
     "text": [
      "11\n",
      "16\n",
      "36\n",
      "9.0\n",
      "8\n",
      "5.0\n"
     ]
    }
   ],
   "source": [
    "from matematicas import modulo1_suma\n",
    "from matematicas import modulo2_resta\n",
    "from matematicas import modulo3_multiplicacion\n",
    "from matematicas import modulo4_divicion\n",
    "from matematicas import modulo5_potencia\n",
    "from matematicas import modulo6_raiz_cuadrada\n",
    "\n",
    "r1 = modulo1_suma.suma(5,6)\n",
    "print(r1)\n",
    "r2 = modulo2_resta.resta(30,14)\n",
    "print(r2)\n",
    "r3 = modulo3_multiplicacion.multiplicacion(6,6)\n",
    "print(r3)\n",
    "r4 = modulo4_divicion.divicion(54,6)\n",
    "print(r4)\n",
    "r5 = modulo5_potencia.potencia(2,3)\n",
    "print(r5)\n",
    "r6 = modulo6_raiz_cuadrada.raiz_cuadrada(25)\n",
    "print(r6)"
   ]
  },
  {
   "cell_type": "code",
   "execution_count": null,
   "id": "37446466",
   "metadata": {},
   "outputs": [],
   "source": []
  },
  {
   "cell_type": "code",
   "execution_count": null,
   "id": "ff15e832",
   "metadata": {},
   "outputs": [],
   "source": []
  }
 ],
 "metadata": {
  "kernelspec": {
   "display_name": "Python 3 (ipykernel)",
   "language": "python",
   "name": "python3"
  },
  "language_info": {
   "codemirror_mode": {
    "name": "ipython",
    "version": 3
   },
   "file_extension": ".py",
   "mimetype": "text/x-python",
   "name": "python",
   "nbconvert_exporter": "python",
   "pygments_lexer": "ipython3",
   "version": "3.11.4"
  }
 },
 "nbformat": 4,
 "nbformat_minor": 5
}

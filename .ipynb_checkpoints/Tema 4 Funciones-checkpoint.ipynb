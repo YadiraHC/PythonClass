{
 "cells": [
  {
   "cell_type": "code",
   "execution_count": 6,
   "id": "1f63d2d3",
   "metadata": {},
   "outputs": [
    {
     "name": "stdout",
     "output_type": "stream",
     "text": [
      "ok\n"
     ]
    }
   ],
   "source": [
    "def mequieres(respuesta): # def nombre_funcion:\n",
    "    if(respuesta == \"Si\"):\n",
    "        print(\"me quieres\")\n",
    "    else:\n",
    "        print(\"ok\")\n",
    "mequieres(\"talvaz\")\n",
    "## es deberia"
   ]
  },
  {
   "cell_type": "code",
   "execution_count": 7,
   "id": "29d3b551",
   "metadata": {
    "scrolled": true
   },
   "outputs": [
    {
     "data": {
      "text/plain": [
       "'ok'"
      ]
     },
     "execution_count": 7,
     "metadata": {},
     "output_type": "execute_result"
    }
   ],
   "source": [
    "def mequieres(respuesta):\n",
    "    if(respuesta == \"Si\"):\n",
    "        print(\"me quieres\")\n",
    "    else:\n",
    "        return(\"ok\")\n",
    "mequieres(\"talvaz\")\n",
    "## es deberia\n",
    "##\n",
    "##hay que colocar un print pero hay que colocar la respuesta en una variable"
   ]
  },
  {
   "cell_type": "markdown",
   "id": "13c53b73",
   "metadata": {},
   "source": [
    "# 1. Definición y llamada a funciones"
   ]
  },
  {
   "cell_type": "code",
   "execution_count": 1,
   "id": "18ee3341",
   "metadata": {},
   "outputs": [
    {
     "name": "stdout",
     "output_type": "stream",
     "text": [
      "Hola\n"
     ]
    }
   ],
   "source": [
    "# a) Definir una función:\n",
    "\n",
    "def saludo():\n",
    "    print(\"Hola\")\n",
    "    \n",
    "# b) Llamar a una función:\n",
    "saludo();"
   ]
  },
  {
   "cell_type": "markdown",
   "id": "963ba6c5",
   "metadata": {},
   "source": [
    "# 2. Argumentos y valores de retorno"
   ]
  },
  {
   "cell_type": "code",
   "execution_count": 2,
   "id": "16faf43b",
   "metadata": {},
   "outputs": [
    {
     "name": "stdout",
     "output_type": "stream",
     "text": [
      "Hola, Juan\n"
     ]
    }
   ],
   "source": [
    "# a) Funciones con argumentos:b\n",
    "\n",
    "\n",
    "#Ejemplo\n",
    "def saludo_personalizado(nombre):\n",
    "    print(f\"Hola, {nombre}\")\n",
    "    \n",
    "# Eso\n",
    "saludo_personalizado(\"Juan\")"
   ]
  },
  {
   "cell_type": "code",
   "execution_count": 4,
   "id": "07b6c06f",
   "metadata": {
    "scrolled": true
   },
   "outputs": [
    {
     "name": "stdout",
     "output_type": "stream",
     "text": [
      "7\n"
     ]
    }
   ],
   "source": [
    "# b) Funciones que retornan valores:\n",
    "\n",
    "def suma(a,b):\n",
    "    return a + b\n",
    "\n",
    "resultado = suma(3, 4)\n",
    "print(resultado)  #"
   ]
  },
  {
   "cell_type": "markdown",
   "id": "e053a185",
   "metadata": {},
   "source": [
    "# 3. Funciones lambda"
   ]
  },
  {
   "cell_type": "code",
   "execution_count": 1,
   "id": "47e1a953",
   "metadata": {
    "scrolled": true
   },
   "outputs": [
    {
     "name": "stdout",
     "output_type": "stream",
     "text": [
      "15\n"
     ]
    }
   ],
   "source": [
    "# Son funciones pequeñas y anónimas que pueden tener cualquier \n",
    "# número de argumentos, pero solo una expresión. La expresión \n",
    "# es evaluada y retornada.\n",
    "\n",
    "multiplica = lambda a, b: a * b\n",
    "\n",
    "print(multiplica(5, 3))  # Esto imprimirá \"15\" en la pantalla."
   ]
  },
  {
   "cell_type": "code",
   "execution_count": 9,
   "id": "a7dd4be5",
   "metadata": {},
   "outputs": [
    {
     "name": "stdout",
     "output_type": "stream",
     "text": [
      "8\n",
      "1\n"
     ]
    }
   ],
   "source": [
    "# Ejercicio práctico 1: Crea una función que reciba una lista de números y retorne el mayor de ellos.\n",
    "\n",
    "def numero_mayor(lista):\n",
    "    return max(lista)\n",
    "\n",
    "def numero_menor(lista):\n",
    "    return min(lista)\n",
    "\n",
    "numeros = [3, 1, 8, 4, 6]\n",
    "\n",
    "print(numero_mayor(numeros))  # Esto imprimirá \"8\" en la pantalla.\n",
    "numeros = [3, 1, 8, 4, 6]\n",
    "print(numero_menor(numeros))"
   ]
  },
  {
   "cell_type": "code",
   "execution_count": 10,
   "id": "cb4aa428",
   "metadata": {},
   "outputs": [
    {
     "name": "stdout",
     "output_type": "stream",
     "text": [
      "77.0\n"
     ]
    }
   ],
   "source": [
    "# Ejercicio práctico 2: Crea una función que convierta grados Celsius a Fahrenheit.\n",
    "\n",
    "\n",
    "def celsius_a_fahrenheit(celsius):\n",
    "    return (celsius * 9/5) + 32\n",
    "\n",
    "grados_c = 25\n",
    "print(celsius_a_fahrenheit(grados_c))  # Esto imprimirá \"77.0\" en la pantalla."
   ]
  },
  {
   "cell_type": "code",
   "execution_count": 12,
   "id": "734369f0",
   "metadata": {},
   "outputs": [
    {
     "name": "stdout",
     "output_type": "stream",
     "text": [
      "15\n"
     ]
    }
   ],
   "source": [
    "# Ejercicio práctico 3: Usa una función lambda para calcular el área de un rectángulo.\n",
    "\n",
    "area_rectangulo = lambda largo, ancho: largo * ancho\n",
    "\n",
    "l = 5\n",
    "a = 3\n",
    "print(area_rectangulo(l, a))  # Esto imprimirá \"15\" en la pantalla."
   ]
  }
 ],
 "metadata": {
  "kernelspec": {
   "display_name": "Python 3 (ipykernel)",
   "language": "python",
   "name": "python3"
  },
  "language_info": {
   "codemirror_mode": {
    "name": "ipython",
    "version": 3
   },
   "file_extension": ".py",
   "mimetype": "text/x-python",
   "name": "python",
   "nbconvert_exporter": "python",
   "pygments_lexer": "ipython3",
   "version": "3.11.4"
  }
 },
 "nbformat": 4,
 "nbformat_minor": 5
}

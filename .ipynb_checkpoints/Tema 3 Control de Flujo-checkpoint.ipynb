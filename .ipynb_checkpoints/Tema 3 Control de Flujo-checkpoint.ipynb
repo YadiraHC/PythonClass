{
 "cells": [
  {
   "cell_type": "markdown",
   "id": "9b2fa749",
   "metadata": {},
   "source": [
    "# 1. Condicionales: if, elif, else"
   ]
  },
  {
   "cell_type": "code",
   "execution_count": 1,
   "id": "9c8c4070",
   "metadata": {},
   "outputs": [
    {
     "name": "stdout",
     "output_type": "stream",
     "text": [
      "Tienes justo 18 años.\n"
     ]
    }
   ],
   "source": [
    "edad = 18\n",
    "\n",
    "if edad < 18:\n",
    "    print(\"Eres menor de edad.\")\n",
    "elif edad == 18:\n",
    "    print(\"Tienes justo 18 años.\")\n",
    "else:\n",
    "    print(\"Eres mayor de edad.\")"
   ]
  },
  {
   "cell_type": "code",
   "execution_count": null,
   "id": "4a8cc672",
   "metadata": {},
   "outputs": [],
   "source": [
    "# Indentacion == 4 espacios\n",
    "\n",
    "a = 10\n",
    "b = 5\n",
    "# EL tabulador es importante\n",
    "if a>b:\n",
    "    print(\"hola mundo\")\n",
    "else:\n",
    "    print(\"Adios Munfo\")"
   ]
  },
  {
   "cell_type": "markdown",
   "id": "a3478da1",
   "metadata": {},
   "source": [
    "# 2. Bucles"
   ]
  },
  {
   "cell_type": "code",
   "execution_count": null,
   "id": "093301ec",
   "metadata": {},
   "outputs": [],
   "source": [
    "#for\n",
    "frutas = [\"manzana\", \"banana\", \"cereza\"]\n",
    "\n",
    "for fruta in frutas:\n",
    "    print(fruta)"
   ]
  },
  {
   "cell_type": "code",
   "execution_count": null,
   "id": "f73ae8ae",
   "metadata": {},
   "outputs": [],
   "source": [
    "n = int(input(\"Introduce un número: \"))\n",
    "suma = 0\n",
    "\n",
    "for i in range(1, n+1):\n",
    "    suma += i\n",
    "\n",
    "print(f\"La suma de los números del 1 al {n} es: {suma}\")"
   ]
  },
  {
   "cell_type": "code",
   "execution_count": 2,
   "id": "2e4a0590",
   "metadata": {},
   "outputs": [
    {
     "name": "stdout",
     "output_type": "stream",
     "text": [
      "1\n",
      "2\n",
      "3\n",
      "4\n",
      "5\n",
      "6\n",
      "7\n",
      "8\n",
      "9\n",
      "10\n"
     ]
    }
   ],
   "source": [
    "for i in range(1,11):\n",
    "    print(i)"
   ]
  },
  {
   "cell_type": "code",
   "execution_count": 3,
   "id": "c6a6ad6a",
   "metadata": {},
   "outputs": [
    {
     "name": "stdout",
     "output_type": "stream",
     "text": [
      "1\n",
      "2\n",
      "3\n",
      "4\n",
      "5\n",
      "6\n",
      "7\n",
      "8\n",
      "9\n",
      "10\n"
     ]
    }
   ],
   "source": [
    "for i in range(1,10+1):\n",
    "    print(i)"
   ]
  },
  {
   "cell_type": "code",
   "execution_count": 5,
   "id": "0f14b608",
   "metadata": {
    "scrolled": true
   },
   "outputs": [
    {
     "name": "stdout",
     "output_type": "stream",
     "text": [
      "Inicio; 1\n",
      "Final; 10\n",
      "avance; 1\n",
      "1\n",
      "2\n",
      "3\n",
      "4\n",
      "5\n",
      "6\n",
      "7\n",
      "8\n",
      "9\n",
      "10\n"
     ]
    }
   ],
   "source": [
    "inicio = int(input(\"Inicio; \"))\n",
    "final = int(input(\"Final; \"))\n",
    "avance = int(input(\"avance; \"))\n",
    "\n",
    "for i in range(inicio,final+1,avance):\n",
    "    print(i)"
   ]
  },
  {
   "cell_type": "code",
   "execution_count": 2,
   "id": "08e1f797",
   "metadata": {
    "scrolled": true
   },
   "outputs": [
    {
     "name": "stdout",
     "output_type": "stream",
     "text": [
      "1\n",
      "2\n",
      "3\n",
      "4\n",
      "5\n"
     ]
    }
   ],
   "source": [
    "#while\n",
    "numero = 1\n",
    "\n",
    "while numero <= 5:\n",
    "    print(numero)\n",
    "    numero += 1"
   ]
  },
  {
   "cell_type": "markdown",
   "id": "d116c7ea",
   "metadata": {},
   "source": [
    "# entregable 1"
   ]
  },
  {
   "cell_type": "code",
   "execution_count": 6,
   "id": "29033e0a",
   "metadata": {},
   "outputs": [
    {
     "name": "stdout",
     "output_type": "stream",
     "text": [
      "Tabla de inicio: 2\n",
      "Tabla Final: 3\n",
      "¿Desde que multiplicador? 4\n",
      "¿Donde finaliza? 8\n",
      "-----------\n",
      "2  x  4  =  8\n",
      "2  x  5  =  10\n",
      "2  x  6  =  12\n",
      "2  x  7  =  14\n",
      "2  x  8  =  16\n",
      "-----------\n",
      "3  x  4  =  12\n",
      "3  x  5  =  15\n",
      "3  x  6  =  18\n",
      "3  x  7  =  21\n",
      "3  x  8  =  24\n"
     ]
    }
   ],
   "source": [
    "#Tabla infinita\n",
    "#el usuiario va a definir el mulplicando y el \n",
    "#multiplicador y el tamaño de la tabla\n",
    "\n",
    "#1 inicion tablas\n",
    "#3 final tablas\n",
    "\n",
    "#3 inicio multi\n",
    "#5 final multi\n",
    "\n",
    "inicio_tabla = int(input(\"Tabla de inicio: \"))\n",
    "final_tabla = int(input(\"Tabla Final: \"))\n",
    "inicio_multiplicador = int(input(\"¿Desde que multiplicador? \"))\n",
    "final_multiplicador = int(input(\"¿Donde finaliza? \"))\n",
    "\n",
    "# El multipri\n",
    "\n",
    "for i in range(inicio_tabla, final_tabla+1):\n",
    "    print(\"__________________\")\n",
    "    for j in range(inicio_multiplicador, final_multiplicador+1):\n",
    "        print(i,\" x \", j, \" = \", i*j ) \n",
    "        \n",
    "    "
   ]
  },
  {
   "cell_type": "code",
   "execution_count": 8,
   "id": "950931a0",
   "metadata": {},
   "outputs": [
    {
     "name": "stdout",
     "output_type": "stream",
     "text": [
      "Tienes justo 18 años.\n"
     ]
    }
   ],
   "source": [
    "#\n",
    "edad = 18\n",
    "\n",
    "if edad < 18:\n",
    "    print(\"Eres menor de edad.\")\n",
    "elif edad == 18:\n",
    "    print(\"Tienes justo 18 años.\")\n",
    "else:\n",
    "    print(\"Eres mayor de edad.\")"
   ]
  },
  {
   "cell_type": "code",
   "execution_count": null,
   "id": "e2970309",
   "metadata": {},
   "outputs": [],
   "source": []
  },
  {
   "cell_type": "code",
   "execution_count": null,
   "id": "6680e69b",
   "metadata": {},
   "outputs": [],
   "source": [
    "## Ejercicio práctico 3: Programa que pide al usuario un número \n",
    "# n y muestra la suma de todos los números del 1 al n.\n",
    "n = int(input(\"Introduce un número: \"))\n",
    "suma = 0\n",
    "\n",
    "for i in range(1, n+1):\n",
    "    suma += i\n",
    "\n",
    "print(f\"La suma de los números del 1 al {n} es: {suma}\")"
   ]
  },
  {
   "cell_type": "code",
   "execution_count": null,
   "id": "7bbb0bf8",
   "metadata": {},
   "outputs": [],
   "source": [
    "# Ejercicio práctico 1: Programa que pide al usuario ingresar un número y muestra si es par o impar.\n",
    "numero = int(input(\"Introduce un número: \"))\n",
    "\n",
    "if numero % 2 == 0:\n",
    "    print(\"El número es par.\")\n",
    "else:\n",
    "    print(\"El número es impar.\")"
   ]
  },
  {
   "cell_type": "code",
   "execution_count": 11,
   "id": "bcf8f4c1",
   "metadata": {},
   "outputs": [
    {
     "name": "stdout",
     "output_type": "stream",
     "text": [
      "0\n",
      "1\n",
      "1\n",
      "2\n",
      "3\n",
      "5\n",
      "8\n",
      "13\n",
      "21\n",
      "34\n"
     ]
    }
   ],
   "source": [
    "# Ejercicio práctico 2: Programa que imprime los primeros 10 números de la serie Fibonacci.\n",
    "a, b = 0, 1\n",
    "for i in range(10):\n",
    "    print(a)\n",
    "    a, b = b, a+b"
   ]
  }
 ],
 "metadata": {
  "kernelspec": {
   "display_name": "Python 3 (ipykernel)",
   "language": "python",
   "name": "python3"
  },
  "language_info": {
   "codemirror_mode": {
    "name": "ipython",
    "version": 3
   },
   "file_extension": ".py",
   "mimetype": "text/x-python",
   "name": "python",
   "nbconvert_exporter": "python",
   "pygments_lexer": "ipython3",
   "version": "3.11.4"
  }
 },
 "nbformat": 4,
 "nbformat_minor": 5
}

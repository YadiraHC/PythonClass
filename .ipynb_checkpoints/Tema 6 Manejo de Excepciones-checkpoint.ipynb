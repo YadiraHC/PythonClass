{
 "cells": [
  {
   "cell_type": "markdown",
   "id": "92b8a43d",
   "metadata": {
    "scrolled": true
   },
   "source": [
    "# 2. Bloque try y except\n"
   ]
  },
  {
   "cell_type": "code",
   "execution_count": null,
   "id": "78b8bc29",
   "metadata": {},
   "outputs": [],
   "source": [
    "# Si sabes que un bloque de código puede causar un error, \n",
    "# puedes colocarlo en un bloque try y manejar el error en el bloque except.\n",
    "try:\n",
    "    numero = int(input(\"Introduce un número: \"))\n",
    "    resultado = 10 / numero\n",
    "    print(resultado)\n",
    "except ZeroDivisionError:\n",
    "    print(\"No puedes dividir por cero.\")\n",
    "except ValueError:\n",
    "    print(\"Debes ingresar un número válido.\")"
   ]
  },
  {
   "cell_type": "markdown",
   "id": "bcbe453e",
   "metadata": {},
   "source": [
    "# 3. Bloque else"
   ]
  },
  {
   "cell_type": "code",
   "execution_count": 4,
   "id": "fd19383d",
   "metadata": {},
   "outputs": [
    {
     "name": "stdout",
     "output_type": "stream",
     "text": [
      "Introduce un número: 5\n",
      "Has introducido el número 5.\n"
     ]
    }
   ],
   "source": [
    "# Se puede usar un bloque else después del except. \n",
    "# Este bloque se ejecutará si no se lanzó ninguna excepción en el bloque try.\n",
    "try:\n",
    "    numero = int(input(\"Introduce un número: \"))\n",
    "except ValueError:\n",
    "    print(\"Debes ingresar un número válido.\")\n",
    "else:\n",
    "    print(f\"Has introducido el número {numero}.\")"
   ]
  },
  {
   "cell_type": "markdown",
   "id": "908671d6",
   "metadata": {},
   "source": [
    "# 4. Bloque finally"
   ]
  },
  {
   "cell_type": "code",
   "execution_count": 5,
   "id": "1bfb53da",
   "metadata": {},
   "outputs": [
    {
     "name": "stdout",
     "output_type": "stream",
     "text": [
      "El archivo no se encuentra.\n"
     ]
    },
    {
     "ename": "NameError",
     "evalue": "name 'f' is not defined",
     "output_type": "error",
     "traceback": [
      "\u001b[1;31m---------------------------------------------------------------------------\u001b[0m",
      "\u001b[1;31mNameError\u001b[0m                                 Traceback (most recent call last)",
      "Cell \u001b[1;32mIn[5], line 12\u001b[0m\n\u001b[0;32m     10\u001b[0m     \u001b[38;5;28mprint\u001b[39m(\u001b[38;5;124m\"\u001b[39m\u001b[38;5;124mEl archivo no se encuentra.\u001b[39m\u001b[38;5;124m\"\u001b[39m)\n\u001b[0;32m     11\u001b[0m \u001b[38;5;28;01mfinally\u001b[39;00m:\n\u001b[1;32m---> 12\u001b[0m     f\u001b[38;5;241m.\u001b[39mclose()\n",
      "\u001b[1;31mNameError\u001b[0m: name 'f' is not defined"
     ]
    }
   ],
   "source": [
    "# Este bloque se ejecuta siempre, independientemente de si se \n",
    "# lanza o no una excepción. Es útil para la limpieza, como cerrar archivos o liberar recursos.\n",
    "\n",
    "\n",
    "try:\n",
    "    f = open(\"archivo.txt\")\n",
    "    # procesar el archivo\n",
    "except FileNotFoundError:\n",
    "    print(\"El archivo no se encuentra.\")\n",
    "finally:\n",
    "    f.close()"
   ]
  },
  {
   "cell_type": "code",
   "execution_count": 18,
   "id": "f27e3f94",
   "metadata": {},
   "outputs": [
    {
     "name": "stdout",
     "output_type": "stream",
     "text": [
      "{'nombre': 'Luis Fernando', 'ap_p': 'Villa', 'ap_m': 'Rejol', 'edad': 33, 'estura': 1.76, 'peso': 80}\n",
      "Luis Fernando\n"
     ]
    }
   ],
   "source": [
    "# del modulo 5\n",
    "persona = {\"nombre\":\"Luis Fernando\",\n",
    "       \"ap_p\":\"Villa\",\n",
    "       \"ap_m\":\"Rejol\",\n",
    "       \"edad\":33,\n",
    "       \"estura\":1.76,\n",
    "       \"peso\":80\n",
    "}\n",
    "\n",
    "print(persona)\n",
    "\n",
    "print(persona[\"nombre\"])    # Imprime \"Juan\"\n",
    "persona[\"edad\"] = 26   "
   ]
  },
  {
   "cell_type": "code",
   "execution_count": 19,
   "id": "e862ab58",
   "metadata": {},
   "outputs": [
    {
     "ename": "SyntaxError",
     "evalue": "f-string: invalid syntax. Perhaps you forgot a comma? (2516275769.py, line 13)",
     "output_type": "error",
     "traceback": [
      "\u001b[1;36m  Cell \u001b[1;32mIn[19], line 13\u001b[1;36m\u001b[0m\n\u001b[1;33m    print (f\"{nombre} estas {descripcion}: IMC{round{imc_p, 1}}\")\u001b[0m\n\u001b[1;37m    ^\u001b[0m\n\u001b[1;31mSyntaxError\u001b[0m\u001b[1;31m:\u001b[0m f-string: invalid syntax. Perhaps you forgot a comma?\n"
     ]
    }
   ],
   "source": [
    "def imc(peso, altura, nombre):\n",
    "    imc_p = peso / altura **2\n",
    "    \n",
    "    categorias = [\n",
    "        (18.5, \"Bajo peso\")\n",
    "        (24.9, \"Normal\")\n",
    "        (29,9, \"Sobrepeso\")\n",
    "        (float, \"Bajo peso\")\n",
    "    ]\n",
    "    \n",
    "    for limite, descricion in categorias:\n",
    "        if imc_p <= limite:\n",
    "            print (f\"{nombre} estas {descripcion}: IMC{round{imc_p, 1}}\")\n",
    "            break\n",
    "peso_persona[\"peso\"]\n",
    "altura_p = persona[\"altura\"]\n",
    "nombre_p = persona[\"nombre\"]\n",
    "\n",
    "imc(peso_p, altura_p, nombre_p) #luis fernanco estas sobre peso: imc 25.8"
   ]
  },
  {
   "cell_type": "code",
   "execution_count": 9,
   "id": "e8c7e027",
   "metadata": {},
   "outputs": [],
   "source": [
    "#ejercicio\n",
    "\n",
    "personajes = [\"Goku\", \"Vegeta\", \"Gohan\", \"Broli\", \"Trunk\", \"Goten\", \"Chabelo\"]"
   ]
  },
  {
   "cell_type": "code",
   "execution_count": 17,
   "id": "60624c7c",
   "metadata": {
    "scrolled": true
   },
   "outputs": [
    {
     "name": "stdout",
     "output_type": "stream",
     "text": [
      "Error desconocido: name 'personaje' is not defined\n"
     ]
    }
   ],
   "source": [
    "\n",
    "def obtener_personaje(indice):\n",
    "    try:\n",
    "        return personaje[indice]\n",
    "    except IndexError:\n",
    "        return \"el inidce del personaje no exitsee\"\n",
    "    except Exception as e:\n",
    "        return f\"Error desconocido: {e}\"\n",
    "    \n",
    "print(obtener_personaje(1))"
   ]
  },
  {
   "cell_type": "code",
   "execution_count": 2,
   "id": "6632df0d",
   "metadata": {},
   "outputs": [],
   "source": [
    "#ejercicio\n",
    "\n",
    "personajes = [\"Goku\", \"Vegeta\", \"Gohan\", \"Broli\", \"Trunk\", \"Goten\", \"Chabelo\"]"
   ]
  },
  {
   "cell_type": "code",
   "execution_count": 3,
   "id": "0ebf3c8b",
   "metadata": {},
   "outputs": [
    {
     "name": "stdout",
     "output_type": "stream",
     "text": [
      "Gohan\n"
     ]
    }
   ],
   "source": [
    "def obtener_personaje(indice):\n",
    "    try:\n",
    "        return personajes[indice]\n",
    "    except IndexError:\n",
    "        return \"El índice del personaje no existe :(\"\n",
    "    except NameError as b:\n",
    "        return f\"NameError: {b} is not defined!\"\n",
    "    except Exception as e:\n",
    "        return f\"Error desconocido: {e}\"\n",
    "\n",
    "# \"a\" antes de llamar a la función\n",
    "a = 2\n",
    "\n",
    "print(obtener_personaje(a))"
   ]
  }
 ],
 "metadata": {
  "kernelspec": {
   "display_name": "Python 3 (ipykernel)",
   "language": "python",
   "name": "python3"
  },
  "language_info": {
   "codemirror_mode": {
    "name": "ipython",
    "version": 3
   },
   "file_extension": ".py",
   "mimetype": "text/x-python",
   "name": "python",
   "nbconvert_exporter": "python",
   "pygments_lexer": "ipython3",
   "version": "3.11.4"
  }
 },
 "nbformat": 4,
 "nbformat_minor": 5
}

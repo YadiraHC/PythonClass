{
 "cells": [
  {
   "cell_type": "markdown",
   "id": "f5804990",
   "metadata": {},
   "source": [
    "# 1. Variables y tipos de datos"
   ]
  },
  {
   "cell_type": "code",
   "execution_count": 2,
   "id": "9f577082",
   "metadata": {},
   "outputs": [
    {
     "name": "stdout",
     "output_type": "stream",
     "text": [
      "Hola, soy Luis Rejom tengo 33 y mi altura es de 1.76m\n",
      "<class 'str'>\n",
      "<class 'str'>\n",
      "<class 'str'>\n",
      "<class 'int'>\n",
      "<class 'float'>\n",
      "<class 'bool'>\n",
      "<class 'bool'>\n"
     ]
    }
   ],
   "source": [
    "#  Tipo de datos\n",
    "\n",
    "nombre = 'Luis'\n",
    "ap_paterno = \"Rejom\"\n",
    "ap_materno = \"\"\"Villafaña\"\"\"\n",
    "edad = 33\n",
    "altura = 1.76\n",
    "es_estudiante = False\n",
    "es_docente = True\n",
    "\n",
    "print(f\"Hola, soy {nombre} {ap_paterno} tengo {edad} y mi altura es de {altura}m\")\n",
    "\n",
    "print(type(nombre))       #Type para devolver el\n",
    "print(type(ap_paterno))   #Tipo de datos de la variable\n",
    "print(type(ap_materno))\n",
    "print(type(edad))\n",
    "print(type(altura))\n",
    "print(type(es_estudiante))\n",
    "print(type(es_docente))"
   ]
  },
  {
   "cell_type": "markdown",
   "id": "56c02b02",
   "metadata": {},
   "source": [
    "# 2 Operadores\n"
   ]
  },
  {
   "cell_type": "code",
   "execution_count": 7,
   "id": "25b8bc6e",
   "metadata": {},
   "outputs": [
    {
     "name": "stdout",
     "output_type": "stream",
     "text": [
      "13\n",
      "7\n",
      "30\n",
      "3.3333333333333335\n",
      "1\n"
     ]
    }
   ],
   "source": [
    "\n",
    "a = 10\n",
    "b = 3\n",
    "\n",
    "suma = a + b\n",
    "resta = a - b\n",
    "multiplicacion = a * b\n",
    "division = a / b\n",
    "modulo = a % b  # Retorna el residuo de la división\n",
    "\n",
    "print (suma)\n",
    "print (resta)\n",
    "print (multiplicacion)\n",
    "print (division)\n",
    "print (modulo)"
   ]
  },
  {
   "cell_type": "code",
   "execution_count": null,
   "id": "78af0cfb",
   "metadata": {},
   "outputs": [],
   "source": [
    "# b) De comparación: Se usan para comparar valores.\n",
    "a == b  # Igual a\n",
    "a != b  # Diferente de\n",
    "a > b   # Mayor que\n",
    "a < b   # Menor que\n",
    "a >= b  # Mayor o igual que\n",
    "a <= b  # Menor o igual que"
   ]
  },
  {
   "cell_type": "code",
   "execution_count": null,
   "id": "5ee35b4a",
   "metadata": {},
   "outputs": [],
   "source": [
    "#c) Lógicos: Se usan para combinar condiciones.\n",
    "x = True\n",
    "y = False\n",
    "\n",
    "resultado_and = x and y  # True si x e y son verdaderos\n",
    "resultado_or = x or y   # True si al menos uno es verdadero\n",
    "resultado_not = not x   # True si x es falso, y viceversa\n",
    "print (resultado_not)"
   ]
  },
  {
   "cell_type": "markdown",
   "id": "6b3df478",
   "metadata": {},
   "source": [
    "# 3. Entrada y salida estándar"
   ]
  },
  {
   "cell_type": "code",
   "execution_count": 8,
   "id": "fd0ff8c6",
   "metadata": {
    "scrolled": false
   },
   "outputs": [
    {
     "name": "stdout",
     "output_type": "stream",
     "text": [
      "Ingresa tu nombreyadira\n",
      "yadira\n"
     ]
    }
   ],
   "source": [
    "#a) Entrada (input()):\n",
    "\n",
    "nombre = input(\"Ingresa tu nombre: \")\n",
    "print(nombre)"
   ]
  },
  {
   "cell_type": "code",
   "execution_count": 3,
   "id": "d21ecc87",
   "metadata": {},
   "outputs": [
    {
     "name": "stdout",
     "output_type": "stream",
     "text": [
      "Tengo 20 años.\n"
     ]
    }
   ],
   "source": [
    "#b) Salida (print()):\n",
    "\n",
    "edad = 20\n",
    "print(f\"Tengo {edad} años.\")  # Uso de f-strings para formatear salida"
   ]
  },
  {
   "cell_type": "markdown",
   "id": "0e75fb2a",
   "metadata": {},
   "source": [
    "# Ejercicios"
   ]
  },
  {
   "cell_type": "code",
   "execution_count": 9,
   "id": "abadfd02",
   "metadata": {},
   "outputs": [
    {
     "name": "stdout",
     "output_type": "stream",
     "text": [
      "Introduce tu nombre: yadira\n",
      "Introduce tu edad: 20\n",
      "Introduce tu ciudad de origen: canucn\n",
      "¡Hola yadira! Veo que tienes 20 años y eres de canucn.\n"
     ]
    }
   ],
   "source": [
    "# Ejercicio práctico 1: Solicita al usuario ingresar su nombre, \n",
    "# edad y ciudad de origen y luego muestra un mensaje personalizado con esos datos.\n",
    "nombre = input(\"Introduce tu nombre: \")\n",
    "edad = input(\"Introduce tu edad: \")\n",
    "ciudad = input(\"Introduce tu ciudad de origen: \")\n",
    "\n",
    "print(f\"¡Hola {nombre}! Veo que tienes {edad} años y eres de {ciudad}.\")"
   ]
  },
  {
   "cell_type": "markdown",
   "id": "647a17e4",
   "metadata": {},
   "source": [
    "# Crear un sistema que ingrese los sig. datos"
   ]
  },
  {
   "cell_type": "code",
   "execution_count": 6,
   "id": "fa033e1a",
   "metadata": {},
   "outputs": [
    {
     "name": "stdout",
     "output_type": "stream",
     "text": [
      "Ingresa tu nombre: s\n",
      " Hola, s\n",
      "Ingresa tu apellido paterno: s\n",
      "s\n",
      "Ingresa tu apellido materno: s\n",
      "s\n",
      "Ingresa tu edad: s\n",
      "s\n",
      "Ingresa tu altura: 3\n",
      "3\n",
      "Es estudiante? Ingresa 'Y' para True y 'N' para False: Y\n",
      "Y\n",
      "Es docente? Ingresa 'Y' para True y 'N' para False: N\n",
      "False\n"
     ]
    }
   ],
   "source": [
    "nombre = input(\"Ingresa tu nombre: \")\n",
    "print(f\" Hola, {nombre}\")\n",
    "\n",
    "ap_paterno = input(\"Ingresa tu apellido paterno: \")\n",
    "print(ap_paterno)\n",
    "\n",
    "ap_materno = input(\"Ingresa tu apellido materno: \")\n",
    "print(ap_materno)\n",
    "\n",
    "edad = input(\"Ingresa tu edad: \")\n",
    "print(edad)\n",
    "\n",
    "altura = input(\"Ingresa tu altura: \")\n",
    "print(altura)\n",
    "\n",
    "es_estudiante = input(\"Es estudiante? Ingresa 'Y' para True y 'N' para False: \")\n",
    "bool_estudiante = es_estudiante == \"Y\"\n",
    "print(es_estudiante)\n",
    "\n",
    "es_docente = input(\"Es docente? Ingresa 'Y' para True y 'N' para False: \")\n",
    "bool_docente = es_docente == \"Y\"\n",
    "print(es_docente)\n",
    "\n",
    "#print(bool_estudiante)\n",
    "#print(bool_docente)"
   ]
  },
  {
   "cell_type": "code",
   "execution_count": 4,
   "id": "52f44019",
   "metadata": {},
   "outputs": [
    {
     "name": "stdout",
     "output_type": "stream",
     "text": [
      "Es estudiante? Ingresa 'Y' para True y 'N' para False: Y\n",
      "Es docente? Ingresa 'Y' para True y 'N' para False: N\n",
      "True\n",
      "False\n"
     ]
    }
   ],
   "source": [
    "# Ejemplo en clases\n",
    "\n",
    "es_estudiante = input(\"Es estudiante? Ingresa 'Y' para True y 'N' para False: \")\n",
    "bool_estudiante = es_estudiante == \"Y\"\n",
    "\n",
    "es_docente = input(\"Es docente? Ingresa 'Y' para True y 'N' para False: \")\n",
    "bool_docente = es_docente == \"Y\"\n",
    "\n",
    "print(bool_estudiante)\n",
    "print(bool_docente)"
   ]
  },
  {
   "cell_type": "code",
   "execution_count": 15,
   "id": "ba4faa29",
   "metadata": {},
   "outputs": [
    {
     "name": "stdout",
     "output_type": "stream",
     "text": [
      "Introduce el primer número: 20\n",
      "Introduce el segundo número: 10\n",
      "Suma: 30.0\n",
      "Resta: 10.0\n",
      "Multiplicación: 200.0\n",
      "División: 2.0\n"
     ]
    }
   ],
   "source": [
    "# Ejercicio práctico 2: Solicita dos números al usuario y \n",
    "# muestra la suma, resta, multiplicación y división de esos números.\n",
    "\n",
    "num1 = float(input(\"Introduce el primer número: \"))\n",
    "num2 = float(input(\"Introduce el segundo número: \"))\n",
    "\n",
    "print(f\"Suma: {num1 + num2}\")\n",
    "print(f\"Resta: {num1 - num2}\")\n",
    "print(f\"Multiplicación: {num1 * num2}\")\n",
    "print(f\"División: {num1 / num2}\")\n",
    "\n"
   ]
  },
  {
   "cell_type": "code",
   "execution_count": null,
   "id": "67b70382",
   "metadata": {},
   "outputs": [],
   "source": []
  },
  {
   "cell_type": "code",
   "execution_count": null,
   "id": "94905460",
   "metadata": {},
   "outputs": [],
   "source": []
  }
 ],
 "metadata": {
  "kernelspec": {
   "display_name": "Python 3 (ipykernel)",
   "language": "python",
   "name": "python3"
  },
  "language_info": {
   "codemirror_mode": {
    "name": "ipython",
    "version": 3
   },
   "file_extension": ".py",
   "mimetype": "text/x-python",
   "name": "python",
   "nbconvert_exporter": "python",
   "pygments_lexer": "ipython3",
   "version": "3.11.4"
  }
 },
 "nbformat": 4,
 "nbformat_minor": 5
}

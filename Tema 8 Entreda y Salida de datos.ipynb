{
 "cells": [
  {
   "cell_type": "markdown",
   "id": "17b796a9",
   "metadata": {},
   "source": [
    "# 1. Apertura de archivos"
   ]
  },
  {
   "cell_type": "code",
   "execution_count": null,
   "id": "5e43c1a6",
   "metadata": {},
   "outputs": [],
   "source": [
    "# El método open() es la clave para manipular archivos en Python.\n",
    "\n",
    "#Ejemplo:\n",
    "\n",
    "# archivo = open(\"ejemplo.txt\", \"r\")  # Abre el archivo en modo lectura\n",
    "# Los modos comunes son:\n",
    "\n",
    "\"r\": Lectura (por defecto).\n",
    "\"w\": Escritura (sobrescribe el archivo si ya existe).\n",
    "\"a\": Añadir (agrega contenido al final del archivo si ya existe).\n",
    "\"b\": Modo binario (se utiliza junto con otros modos, como \"rb\" o \"wb\")"
   ]
  },
  {
   "cell_type": "code",
   "execution_count": 5,
   "id": "a1bcf576",
   "metadata": {},
   "outputs": [
    {
     "name": "stdout",
     "output_type": "stream",
     "text": [
      "let a = 10;\n",
      "\n",
      "console.log(a);\n"
     ]
    }
   ],
   "source": [
    "#solo lee no ejecuta\n",
    "# 1\n",
    "archivo = open(\"scrip.js\", \"r\")\n",
    "#2\n",
    "contenido = archivo.read()\n",
    "print(contenido)\n",
    "\n",
    "# 2.2\n",
    "# También puedes leer una línea a la vez o todas las líneas como una lista:\n",
    "# contenido = archivo.read()  # Lee todo el contenido\n",
    "# print(contenido)"
   ]
  },
  {
   "cell_type": "code",
   "execution_count": 6,
   "id": "523a9201",
   "metadata": {},
   "outputs": [
    {
     "name": "stdout",
     "output_type": "stream",
     "text": [
      "\n"
     ]
    }
   ],
   "source": []
  },
  {
   "cell_type": "code",
   "execution_count": 9,
   "id": "47c42fdb",
   "metadata": {},
   "outputs": [],
   "source": [
    "# 3. Escribir en archivos\n",
    "\n",
    "archivo = open(\"ejemplo.txt\", \"w\")\n",
    "archivo.write(\"Hola mundo! :D\")\n",
    "# 4 Cerrar Archivo\n",
    "archivo.close()"
   ]
  },
  {
   "cell_type": "code",
   "execution_count": 14,
   "id": "7d9334c5",
   "metadata": {},
   "outputs": [
    {
     "name": "stdout",
     "output_type": "stream",
     "text": [
      "tareas = [\"Comprar leche\", \"Estudiar Python\", \"Hacer ejercicio\"]\n",
      "\n",
      "with open(\"tareas.txt\", \"w\") as archivo:\n",
      "for tarea in tareas:\n",
      "archivo.write(tarea + \"\\n\")Hacer tarea\n"
     ]
    }
   ],
   "source": [
    "# Ejercicio práctico 1: Crea un programa que escriba una lista de tareas\n",
    "# en un archivo y luego lo lea y muestre en pantalla.\n",
    "#-------------------------\n",
    "# escritura.py:\n",
    "#\n",
    "# tareas = [\"Comprar leche\", \"Estudiar Python\", \"Hacer ejercicio\"]\n",
    "#\n",
    "# with open(\"tareas.txt\", \"w\") as archivo:\n",
    "#     for tarea in tareas:\n",
    "#         archivo.write(tarea + \"\\n\")\n",
    "#----------------------------        \n",
    "\n",
    "with open(\"tareas.txt\", \"r\") as archivo:\n",
    "    lineas = archivo.readlines()\n",
    "    for linea in lineas:\n",
    "        print(linea.strip())"
   ]
  },
  {
   "cell_type": "code",
   "execution_count": 12,
   "id": "1a999f25",
   "metadata": {},
   "outputs": [
    {
     "name": "stdout",
     "output_type": "stream",
     "text": [
      "Introduce una nueva tarea: Hacer tarea\n"
     ]
    }
   ],
   "source": [
    "# Ejercicio práctico 2: Modifica el programa anterior para que el usuario pueda añadir una nueva tarea al archivo.\n",
    "#Ejercicio práctico 2: Modifica el programa anterior para que el usuario pueda añadir una nueva tarea al archivo\n",
    "nueva_tarea = input(\"Introduce una nueva tarea: \")\n",
    "\n",
    "with open(\"tareas.txt\", \"a\") as archivo:\n",
    "    archivo.write(nueva_tarea + \"\\n\")"
   ]
  },
  {
   "cell_type": "markdown",
   "id": "b5831e31",
   "metadata": {},
   "source": [
    "# Investigacion: "
   ]
  },
  {
   "cell_type": "code",
   "execution_count": 16,
   "id": "342e6d97",
   "metadata": {},
   "outputs": [
    {
     "name": "stdout",
     "output_type": "stream",
     "text": [
      "Requirement already satisfied: python-docx in c:\\users\\1116805681\\anaconda3\\lib\\site-packages (1.0.1)\n",
      "Requirement already satisfied: lxml>=3.1.0 in c:\\users\\1116805681\\anaconda3\\lib\\site-packages (from python-docx) (4.9.2)\n",
      "Requirement already satisfied: typing-extensions in c:\\users\\1116805681\\anaconda3\\lib\\site-packages (from python-docx) (4.7.1)\n",
      "Note: you may need to restart the kernel to use updated packages.\n"
     ]
    }
   ],
   "source": [
    "pip install python-docx"
   ]
  },
  {
   "cell_type": "code",
   "execution_count": 28,
   "id": "eeb8ca7d",
   "metadata": {},
   "outputs": [
    {
     "name": "stdout",
     "output_type": "stream",
     "text": [
      "Â¡Esto es un word :D!\n"
     ]
    }
   ],
   "source": [
    "for line in contenido:\n",
    "    print(line)\n",
    "\n",
    "word = open(\"word.docx\", \"r\")\n",
    "\n",
    "contenido = word.read()\n",
    "print(contenido)"
   ]
  },
  {
   "cell_type": "code",
   "execution_count": 2,
   "id": "a6841730",
   "metadata": {},
   "outputs": [],
   "source": [
    "#para guardar:"
   ]
  },
  {
   "cell_type": "code",
   "execution_count": 88,
   "id": "571d387f",
   "metadata": {},
   "outputs": [],
   "source": [
    "import docx\n",
    "\n",
    "doc = docx.Document()\n",
    "doc.save(\"word.docx\")"
   ]
  },
  {
   "cell_type": "code",
   "execution_count": 3,
   "id": "02629b82",
   "metadata": {},
   "outputs": [
    {
     "name": "stdout",
     "output_type": "stream",
     "text": [
      "\n"
     ]
    }
   ],
   "source": [
    "# para un pdf:"
   ]
  },
  {
   "cell_type": "code",
   "execution_count": 44,
   "id": "0b602a89",
   "metadata": {},
   "outputs": [
    {
     "name": "stdout",
     "output_type": "stream",
     "text": [
      "\n"
     ]
    }
   ],
   "source": [
    "# libreria"
   ]
  },
  {
   "cell_type": "code",
   "execution_count": 35,
   "id": "28f5f80b",
   "metadata": {},
   "outputs": [
    {
     "name": "stdout",
     "output_type": "stream",
     "text": [
      "Collecting PyPDF2\n",
      "  Downloading pypdf2-3.0.1-py3-none-any.whl (232 kB)\n",
      "     ---------------------------------------- 0.0/232.6 kB ? eta -:--:--\n",
      "     ----- ---------------------------------- 30.7/232.6 kB ? eta -:--:--\n",
      "     ----- ---------------------------------- 30.7/232.6 kB ? eta -:--:--\n",
      "     ------------------ ------------------- 112.6/232.6 kB 1.1 MB/s eta 0:00:01\n",
      "     -------------------------------------- 232.6/232.6 kB 1.3 MB/s eta 0:00:00\n",
      "Installing collected packages: PyPDF2\n",
      "Successfully installed PyPDF2-3.0.1\n",
      "Note: you may need to restart the kernel to use updated packages.\n"
     ]
    }
   ],
   "source": [
    "pip install PyPDF2"
   ]
  },
  {
   "cell_type": "code",
   "execution_count": 80,
   "id": "3d827751",
   "metadata": {
    "scrolled": true
   },
   "outputs": [
    {
     "name": "stdout",
     "output_type": "stream",
     "text": [
      "Esto es un PDF  \n"
     ]
    }
   ],
   "source": [
    "import PyPDF2\n",
    "pdf_file = open('pdf.pdf', 'rb')\n",
    "\n",
    "read_pdf = PyPDF2.PdfReader(pdf_file)\n",
    "\n",
    "for page in read_pdf.pages:\n",
    "    print(page.extract_text())"
   ]
  },
  {
   "cell_type": "code",
   "execution_count": null,
   "id": "7c7e54bf",
   "metadata": {},
   "outputs": [],
   "source": [
    "# en caspo de que la libreria este desactualizada:"
   ]
  },
  {
   "cell_type": "code",
   "execution_count": 37,
   "id": "9db2fef2",
   "metadata": {},
   "outputs": [
    {
     "name": "stdout",
     "output_type": "stream",
     "text": [
      "Requirement already satisfied: PyPDF2 in c:\\users\\1116805681\\anaconda3\\lib\\site-packages (3.0.1)\n",
      "Note: you may need to restart the kernel to use updated packages.\n"
     ]
    }
   ],
   "source": [
    "pip install --upgrade PyPDF2"
   ]
  },
  {
   "cell_type": "code",
   "execution_count": null,
   "id": "2fc73440",
   "metadata": {
    "scrolled": false
   },
   "outputs": [],
   "source": [
    "\n"
   ]
  },
  {
   "cell_type": "code",
   "execution_count": null,
   "id": "6f5c1a06",
   "metadata": {},
   "outputs": [],
   "source": [
    "# para un excel"
   ]
  },
  {
   "cell_type": "code",
   "execution_count": 39,
   "id": "7e9b0204",
   "metadata": {},
   "outputs": [
    {
     "name": "stdout",
     "output_type": "stream",
     "text": [
      "Requirement already satisfied: openpyxl in c:\\users\\1116805681\\anaconda3\\lib\\site-packages (3.0.10)\n",
      "Requirement already satisfied: et_xmlfile in c:\\users\\1116805681\\anaconda3\\lib\\site-packages (from openpyxl) (1.1.0)\n",
      "Note: you may need to restart the kernel to use updated packages.\n"
     ]
    }
   ],
   "source": [
    "pip install openpyxl\n"
   ]
  },
  {
   "cell_type": "code",
   "execution_count": 40,
   "id": "c5613ac6",
   "metadata": {
    "scrolled": true
   },
   "outputs": [
    {
     "name": "stdout",
     "output_type": "stream",
     "text": [
      "('Este excel se ve en Python', None, None, None)\n",
      "(None, 1, 2, 3)\n",
      "('a', 'a1', 'a2', 'a3')\n",
      "('b', 'b1', 'b2', 'b3')\n",
      "('c', 'c1', 'c2', 'c3')\n"
     ]
    }
   ],
   "source": [
    "import openpyxl\n",
    "\n",
    "# Abre el archivo .xlsx\n",
    "workbook = openpyxl.load_workbook('libro1.xlsx')\n",
    "\n",
    "# Selecciona una hoja del archivo (por ejemplo, la primera hoja)\n",
    "sheet = workbook.active\n",
    "\n",
    "# Lee y muestra el contenido de la hoja\n",
    "for row in sheet.iter_rows(values_only=True):\n",
    "    print(row)\n"
   ]
  }
 ],
 "metadata": {
  "kernelspec": {
   "display_name": "Python 3 (ipykernel)",
   "language": "python",
   "name": "python3"
  },
  "language_info": {
   "codemirror_mode": {
    "name": "ipython",
    "version": 3
   },
   "file_extension": ".py",
   "mimetype": "text/x-python",
   "name": "python",
   "nbconvert_exporter": "python",
   "pygments_lexer": "ipython3",
   "version": "3.11.4"
  }
 },
 "nbformat": 4,
 "nbformat_minor": 5
}
